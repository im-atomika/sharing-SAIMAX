{
 "cells": [
  {
   "cell_type": "code",
   "execution_count": 34,
   "metadata": {},
   "outputs": [],
   "source": [
    "import dash\n",
    "import dash_core_components as dcc\n",
    "import dash_html_components as html\n",
    "from dash.dependencies import Input,Output"
   ]
  },
  {
   "cell_type": "code",
   "execution_count": 27,
   "metadata": {},
   "outputs": [
    {
     "name": "stdout",
     "output_type": "stream",
     "text": [
      "/usr/local/lib/python2.7/dist-packages\n"
     ]
    }
   ],
   "source": [
    "app = dash.Dash()"
   ]
  },
  {
   "cell_type": "code",
   "execution_count": 28,
   "metadata": {},
   "outputs": [
    {
     "name": "stdout",
     "output_type": "stream",
     "text": [
      "/home/anuradha/Documents\n"
     ]
    }
   ],
   "source": [
    "app.layout = html.Div('Dash Tutorials')"
   ]
  },
  {
   "cell_type": "code",
   "execution_count": 29,
   "metadata": {},
   "outputs": [],
   "source": [
    "if __name__ == '__main__':\n",
    "    app.run_server(debug=True)"
   ]
  },
  {
   "cell_type": "code",
   "execution_count": 32,
   "metadata": {},
   "outputs": [],
   "source": [
    "app.layout = html.Div(children='Dash Tutorials')"
   ]
  },
  {
   "cell_type": "markdown",
   "metadata": {},
   "source": [
    "app.layout=html.Div('Dash Practice')"
   ]
  },
  {
   "cell_type": "code",
   "execution_count": 33,
   "metadata": {},
   "outputs": [
    {
     "name": "stdout",
     "output_type": "stream",
     "text": [
      "Running on http://127.0.0.1:8050/\n",
      "Running on http://127.0.0.1:8050/\n",
      "Running on http://127.0.0.1:8050/\n",
      "Running on http://127.0.0.1:8050/\n",
      "Debugger PIN: 476-659-004\n",
      "Debugger PIN: 476-659-004\n",
      "Debugger PIN: 476-659-004\n",
      "Debugger PIN: 476-659-004\n",
      " * Serving Flask app \"__main__\" (lazy loading)\n",
      " * Environment: production\n",
      "   WARNING: This is a development server. Do not use it in a production deployment.\n",
      "   Use a production WSGI server instead.\n",
      " * Debug mode: on\n"
     ]
    },
    {
     "ename": "OSError",
     "evalue": "[Errno 98] Address already in use",
     "output_type": "error",
     "traceback": [
      "\u001b[0;31m---------------------------------------------------------------------------\u001b[0m",
      "\u001b[0;31mOSError\u001b[0m                                   Traceback (most recent call last)",
      "\u001b[0;32m<ipython-input-33-05cb170550fd>\u001b[0m in \u001b[0;36m<module>\u001b[0;34m\u001b[0m\n\u001b[1;32m      1\u001b[0m \u001b[0;32mif\u001b[0m \u001b[0m__name__\u001b[0m\u001b[0;34m==\u001b[0m\u001b[0;34m'__main__'\u001b[0m\u001b[0;34m:\u001b[0m\u001b[0;34m\u001b[0m\u001b[0;34m\u001b[0m\u001b[0m\n\u001b[0;32m----> 2\u001b[0;31m     \u001b[0mapp\u001b[0m\u001b[0;34m.\u001b[0m\u001b[0mrun_server\u001b[0m\u001b[0;34m(\u001b[0m\u001b[0mdebug\u001b[0m\u001b[0;34m=\u001b[0m\u001b[0;32mTrue\u001b[0m\u001b[0;34m)\u001b[0m\u001b[0;34m\u001b[0m\u001b[0;34m\u001b[0m\u001b[0m\n\u001b[0m",
      "\u001b[0;32m/usr/local/lib/python2.7/dist-packages/dash/dash.py\u001b[0m in \u001b[0;36mrun_server\u001b[0;34m(self, port, debug, dev_tools_ui, dev_tools_props_check, dev_tools_serve_dev_bundles, dev_tools_hot_reload, dev_tools_hot_reload_interval, dev_tools_hot_reload_watch_interval, dev_tools_hot_reload_max_retry, dev_tools_silence_routes_logging, dev_tools_prune_errors, **flask_run_options)\u001b[0m\n\u001b[1;32m   1924\u001b[0m             \u001b[0mself\u001b[0m\u001b[0;34m.\u001b[0m\u001b[0mlogger\u001b[0m\u001b[0;34m.\u001b[0m\u001b[0minfo\u001b[0m\u001b[0;34m(\u001b[0m\u001b[0;34m\"Debugger PIN: %s\"\u001b[0m\u001b[0;34m,\u001b[0m \u001b[0mdebugger_pin\u001b[0m\u001b[0;34m)\u001b[0m\u001b[0;34m\u001b[0m\u001b[0;34m\u001b[0m\u001b[0m\n\u001b[1;32m   1925\u001b[0m \u001b[0;34m\u001b[0m\u001b[0m\n\u001b[0;32m-> 1926\u001b[0;31m         \u001b[0mself\u001b[0m\u001b[0;34m.\u001b[0m\u001b[0mserver\u001b[0m\u001b[0;34m.\u001b[0m\u001b[0mrun\u001b[0m\u001b[0;34m(\u001b[0m\u001b[0mport\u001b[0m\u001b[0;34m=\u001b[0m\u001b[0mport\u001b[0m\u001b[0;34m,\u001b[0m \u001b[0mdebug\u001b[0m\u001b[0;34m=\u001b[0m\u001b[0mdebug\u001b[0m\u001b[0;34m,\u001b[0m \u001b[0;34m**\u001b[0m\u001b[0mflask_run_options\u001b[0m\u001b[0;34m)\u001b[0m\u001b[0;34m\u001b[0m\u001b[0;34m\u001b[0m\u001b[0m\n\u001b[0m",
      "\u001b[0;32m/usr/local/lib/python2.7/dist-packages/flask/app.py\u001b[0m in \u001b[0;36mrun\u001b[0;34m(self, host, port, debug, load_dotenv, **options)\u001b[0m\n\u001b[1;32m    988\u001b[0m \u001b[0;34m\u001b[0m\u001b[0m\n\u001b[1;32m    989\u001b[0m         \u001b[0;32mtry\u001b[0m\u001b[0;34m:\u001b[0m\u001b[0;34m\u001b[0m\u001b[0;34m\u001b[0m\u001b[0m\n\u001b[0;32m--> 990\u001b[0;31m             \u001b[0mrun_simple\u001b[0m\u001b[0;34m(\u001b[0m\u001b[0mhost\u001b[0m\u001b[0;34m,\u001b[0m \u001b[0mport\u001b[0m\u001b[0;34m,\u001b[0m \u001b[0mself\u001b[0m\u001b[0;34m,\u001b[0m \u001b[0;34m**\u001b[0m\u001b[0moptions\u001b[0m\u001b[0;34m)\u001b[0m\u001b[0;34m\u001b[0m\u001b[0;34m\u001b[0m\u001b[0m\n\u001b[0m\u001b[1;32m    991\u001b[0m         \u001b[0;32mfinally\u001b[0m\u001b[0;34m:\u001b[0m\u001b[0;34m\u001b[0m\u001b[0;34m\u001b[0m\u001b[0m\n\u001b[1;32m    992\u001b[0m             \u001b[0;31m# reset the first request information if the development server\u001b[0m\u001b[0;34m\u001b[0m\u001b[0;34m\u001b[0m\u001b[0;34m\u001b[0m\u001b[0m\n",
      "\u001b[0;32m/usr/local/lib/python2.7/dist-packages/werkzeug/serving.py\u001b[0m in \u001b[0;36mrun_simple\u001b[0;34m(hostname, port, application, use_reloader, use_debugger, use_evalex, extra_files, reloader_interval, reloader_type, threaded, processes, request_handler, static_files, passthrough_errors, ssl_context)\u001b[0m\n\u001b[1;32m    986\u001b[0m             \u001b[0ms\u001b[0m \u001b[0;34m=\u001b[0m \u001b[0msocket\u001b[0m\u001b[0;34m.\u001b[0m\u001b[0msocket\u001b[0m\u001b[0;34m(\u001b[0m\u001b[0maddress_family\u001b[0m\u001b[0;34m,\u001b[0m \u001b[0msocket\u001b[0m\u001b[0;34m.\u001b[0m\u001b[0mSOCK_STREAM\u001b[0m\u001b[0;34m)\u001b[0m\u001b[0;34m\u001b[0m\u001b[0;34m\u001b[0m\u001b[0m\n\u001b[1;32m    987\u001b[0m             \u001b[0ms\u001b[0m\u001b[0;34m.\u001b[0m\u001b[0msetsockopt\u001b[0m\u001b[0;34m(\u001b[0m\u001b[0msocket\u001b[0m\u001b[0;34m.\u001b[0m\u001b[0mSOL_SOCKET\u001b[0m\u001b[0;34m,\u001b[0m \u001b[0msocket\u001b[0m\u001b[0;34m.\u001b[0m\u001b[0mSO_REUSEADDR\u001b[0m\u001b[0;34m,\u001b[0m \u001b[0;36m1\u001b[0m\u001b[0;34m)\u001b[0m\u001b[0;34m\u001b[0m\u001b[0;34m\u001b[0m\u001b[0m\n\u001b[0;32m--> 988\u001b[0;31m             \u001b[0ms\u001b[0m\u001b[0;34m.\u001b[0m\u001b[0mbind\u001b[0m\u001b[0;34m(\u001b[0m\u001b[0mserver_address\u001b[0m\u001b[0;34m)\u001b[0m\u001b[0;34m\u001b[0m\u001b[0;34m\u001b[0m\u001b[0m\n\u001b[0m\u001b[1;32m    989\u001b[0m             \u001b[0;32mif\u001b[0m \u001b[0mhasattr\u001b[0m\u001b[0;34m(\u001b[0m\u001b[0ms\u001b[0m\u001b[0;34m,\u001b[0m \u001b[0;34m\"set_inheritable\"\u001b[0m\u001b[0;34m)\u001b[0m\u001b[0;34m:\u001b[0m\u001b[0;34m\u001b[0m\u001b[0;34m\u001b[0m\u001b[0m\n\u001b[1;32m    990\u001b[0m                 \u001b[0ms\u001b[0m\u001b[0;34m.\u001b[0m\u001b[0mset_inheritable\u001b[0m\u001b[0;34m(\u001b[0m\u001b[0;32mTrue\u001b[0m\u001b[0;34m)\u001b[0m\u001b[0;34m\u001b[0m\u001b[0;34m\u001b[0m\u001b[0m\n",
      "\u001b[0;31mOSError\u001b[0m: [Errno 98] Address already in use"
     ]
    }
   ],
   "source": [
    "import dash\n",
    "import dash_core_components as dcc\n",
    "import dash_html_components as html\n",
    "\n",
    "app = dash.Dash()\n",
    "\n",
    "app.layout = html.Div(children=[\n",
    "    html.H1(children='Dash Tutorials'),\n",
    "    dcc.Graph()\n",
    "])\n",
    "\n",
    "if __name__ == '__main__':\n",
    "    app.run_server(debug=True)"
   ]
  },
  {
   "cell_type": "code",
   "execution_count": null,
   "metadata": {},
   "outputs": [],
   "source": [
    "    dcc.Graph(\n",
    "        id='example',\n",
    "        figure={\n",
    "            'data': [\n",
    "                {'x': [1, 2, 3, 4, 5], 'y': [9, 6, 2, 1, 5], 'type': 'line', 'name': 'Boats'},\n",
    "                {'x': [1, 2, 3, 4, 5], 'y': [8, 7, 2, 7, 3], 'type': 'bar', 'name': 'Cars'},\n",
    "            ],\n",
    "            'layout': {\n",
    "                'title': 'Basic Dash Example'\n",
    "            }\n",
    "        }\n",
    "    )"
   ]
  },
  {
   "cell_type": "markdown",
   "metadata": {},
   "source": [
    "# day 2"
   ]
  },
  {
   "cell_type": "code",
   "execution_count": 35,
   "metadata": {},
   "outputs": [],
   "source": [
    "import dash\n",
    "from dash.dependencies import Input, Output\n",
    "import dash_core_components as dcc\n",
    "import dash_html_components as html\n",
    "\n",
    "app = dash.Dash()"
   ]
  },
  {
   "cell_type": "code",
   "execution_count": 36,
   "metadata": {},
   "outputs": [],
   "source": [
    "app.layout = html.Div([\n",
    "    dcc.Input(id='input', value='Enter something here!', type='text'),\n",
    "    html.Div(id='output')\n",
    "])"
   ]
  },
  {
   "cell_type": "code",
   "execution_count": 37,
   "metadata": {},
   "outputs": [
    {
     "ename": "SyntaxError",
     "evalue": "unexpected EOF while parsing (<ipython-input-37-c780a16f6162>, line 4)",
     "output_type": "error",
     "traceback": [
      "\u001b[0;36m  File \u001b[0;32m\"<ipython-input-37-c780a16f6162>\"\u001b[0;36m, line \u001b[0;32m4\u001b[0m\n\u001b[0;31m    )\u001b[0m\n\u001b[0m     ^\u001b[0m\n\u001b[0;31mSyntaxError\u001b[0m\u001b[0;31m:\u001b[0m unexpected EOF while parsing\n"
     ]
    }
   ],
   "source": [
    "@app.callback(\n",
    "    Output(component_id='output', component_property='children'),\n",
    "    [Input(component_id='input', component_property='value')]\n",
    ")"
   ]
  },
  {
   "cell_type": "code",
   "execution_count": null,
   "metadata": {},
   "outputs": [],
   "source": [
    "@app.callback(\n",
    "    Output(component_id='output', component_property='children'),\n",
    "    [Input(component_id='input', component_property='value')]\n",
    ")\n",
    "def update_value(input_data):\n",
    "    return 'Input: \"{}\"'.format(input_data)"
   ]
  },
  {
   "cell_type": "code",
   "execution_count": null,
   "metadata": {},
   "outputs": [],
   "source": [
    "import dash\n",
    "from dash.dependencies import Input, Output\n",
    "import dash_core_components as dcc\n",
    "import dash_html_components as html\n",
    "\n",
    "app = dash.Dash()\n",
    "\n",
    "app.layout = html.Div([\n",
    "    dcc.Input(id='input', value='Enter something here!', type='text'),\n",
    "    html.Div(id='output')\n",
    "])\n",
    "\n",
    "@app.callback(\n",
    "    Output(component_id='output', component_property='children'),\n",
    "    [Input(component_id='input', component_property='value')]\n",
    ")\n",
    "def update_value(input_data):\n",
    "    return 'Input: \"{}\"'.format(input_data)\n",
    "\n",
    "\n",
    "if __name__ == '__main__':\n",
    "    app.run_server(debug=True)"
   ]
  },
  {
   "cell_type": "markdown",
   "metadata": {},
   "source": [
    "# day 3"
   ]
  },
  {
   "cell_type": "code",
   "execution_count": null,
   "metadata": {},
   "outputs": [],
   "source": [
    "import pandas_datareader.data as web\n",
    "import datetime\n",
    "import dash\n",
    "import dash_core_components as dcc\n",
    "import dash_html_components as html\n",
    "\n",
    "app = dash.Dash()\n",
    "stock = 'TSLA'\n",
    "start = datetime.datetime(2015, 1, 1)\n",
    "end = datetime.datetime(2018, 2, 8)\n",
    "df = web.DataReader(stock, 'morningstar', start, end)\n",
    "df.reset_index(inplace=True)\n",
    "df.set_index(\"Date\", inplace=True)\n",
    "df = df.drop(\"Symbol\", axis=1)\n",
    "\n",
    "app.layout = html.Div(children=[\n",
    "    html.H1(children='Whoa, a graph!'),\n",
    "\n",
    "    html.Div(children='''\n",
    "        Making a stock graph!.\n",
    "    '''),\n",
    "\n",
    "    dcc.Graph(\n",
    "        id='example-graph',\n",
    "        figure={\n",
    "            'data': [\n",
    "                {'x': df.index, 'y': df.Close, 'type': 'line', 'name': stock},\n",
    "            ],\n",
    "            'layout': {\n",
    "                'title': stock\n",
    "            }\n",
    "        }\n",
    "    )\n",
    "])\n",
    "\n",
    "if __name__ == '__main__':\n",
    "    app.run_server(debug=True)"
   ]
  },
  {
   "cell_type": "code",
   "execution_count": null,
   "metadata": {},
   "outputs": [],
   "source": [
    "import pandas_datareader.data as web\n",
    "import datetime\n",
    "import dash\n",
    "import dash_core_components as dcc\n",
    "import dash_html_components as html\n",
    "from dash.dependencies import Input, Output\n",
    "\n",
    "app = dash.Dash()\n",
    "\n",
    "app.layout = html.Div(children=[\n",
    "    html.Div(children='''\n",
    "        Symbol to graph:\n",
    "    '''),\n",
    "    dcc.Input(id='input', value='', type='text'),\n",
    "    html.Div(id='output-graph'),\n",
    "])\n",
    "\n",
    "@app.callback(\n",
    "    Output(component_id='output-graph', component_property='children'),\n",
    "    [Input(component_id='input', component_property='value')]\n",
    ")\n",
    "def update_value(input_data):\n",
    "    start = datetime.datetime(2015, 1, 1)\n",
    "    end = datetime.datetime.now()\n",
    "    df = web.DataReader(input_data, 'morningstar', start, end)\n",
    "    df.reset_index(inplace=True)\n",
    "    df.set_index(\"Date\", inplace=True)\n",
    "    df = df.drop(\"Symbol\", axis=1)\n",
    "\n",
    "    return dcc.Graph(\n",
    "        id='example-graph',\n",
    "        figure={\n",
    "            'data': [\n",
    "                {'x': df.index, 'y': df.Close, 'type': 'line', 'name': input_data},\n",
    "            ],\n",
    "            'layout': {\n",
    "                'title': input_data\n",
    "            }\n",
    "        }\n",
    "    )\n",
    "\n",
    "if __name__ == '__main__':\n",
    "    app.run_server(debug=True)"
   ]
  },
  {
   "cell_type": "markdown",
   "metadata": {},
   "source": [
    "# day 4"
   ]
  },
  {
   "cell_type": "code",
   "execution_count": null,
   "metadata": {},
   "outputs": [],
   "source": [
    "import dash\n",
    "import dash_core_components as dcc\n",
    "import dash_html_components as html\n",
    "from pandas_datareader.data import DataReader\n",
    "import time\n",
    "from collections import deque\n",
    "import plotly.graph_objs as go\n",
    "import random\n",
    "\n",
    "app = dash.Dash('vehicle-data')\n",
    "\n",
    "data_dict = {\"Oil Temperature\":oil_temps,\n",
    "\"Intake Temperature\": intake_temps,\n",
    "\"Coolant Temperature\": coolant_temps,\n",
    "\"RPM\":rpms,\n",
    "\"Speed\":speeds,\n",
    "\"Throttle Position\":throttle_pos}\n",
    "\n",
    "max_length = 50\n",
    "times = deque(maxlen=max_length)\n",
    "oil_temps = deque(maxlen=max_length)\n",
    "intake_temps = deque(maxlen=max_length)\n",
    "coolant_temps = deque(maxlen=max_length)\n",
    "rpms = deque(maxlen=max_length)\n",
    "speeds = deque(maxlen=max_length)\n",
    "throttle_pos = deque(maxlen=max_length)\n",
    "\n",
    "\n",
    "def update_obd_values(times, oil_temps, intake_temps, coolant_temps, rpms, speeds, throttle_pos):\n",
    "\n",
    "    times.append(time.time())\n",
    "    if len(times) == 1:\n",
    "        #starting relevant values\n",
    "        oil_temps.append(random.randrange(180,230))\n",
    "        intake_temps.append(random.randrange(95,115))\n",
    "        coolant_temps.append(random.randrange(170,220))\n",
    "        rpms.append(random.randrange(1000,9500))\n",
    "        speeds.append(random.randrange(30,140))\n",
    "        throttle_pos.append(random.randrange(10,90))\n",
    "    else:\n",
    "        for data_of_interest in [oil_temps, intake_temps, coolant_temps, rpms, speeds, throttle_pos]:\n",
    "            data_of_interest.append(data_of_interest[-1]+data_of_interest[-1]*random.uniform(-0.0001,0.0001))\n",
    "\n",
    "    return times, oil_temps, intake_temps, coolant_temps, rpms, speeds, throttle_pos\n",
    "\n",
    "times, oil_temps, intake_temps, coolant_temps, rpms, speeds, throttle_pos = update_obd_values(times, oil_temps, intake_temps, coolant_temps, rpms, speeds, throttle_pos)\n",
    "\n",
    "app.layout = html.Div([\n",
    "    html.Div([\n",
    "        html.H2('Vehicle Data',\n",
    "                style={'float': 'left',\n",
    "                       }),\n",
    "        ]),\n",
    "    dcc.Dropdown(id='vehicle-data-name',\n",
    "                 options=[{'label': s, 'value': s}\n",
    "                          for s in data_dict.keys()],\n",
    "                 value=['Coolant Temperature','Oil Temperature','Intake Temperature'],\n",
    "                 multi=True\n",
    "                 ),\n",
    "    html.Div(children=html.Div(id='graphs'), className='row'),\n",
    "    dcc.Interval(\n",
    "        id='graph-update',\n",
    "        interval=100),\n",
    "    ], className=\"container\",style={'width':'98%','margin-left':10,'margin-right':10,'max-width':50000})\n",
    "\n",
    "\n",
    "@app.callback(\n",
    "    dash.dependencies.Output('graphs','children'),\n",
    "    [dash.dependencies.Input('vehicle-data-name', 'value')],\n",
    "    events=[dash.dependencies.Event('graph-update', 'interval')]\n",
    "    )\n",
    "def update_graph(data_names):\n",
    "    graphs = []\n",
    "    update_obd_values(times, oil_temps, intake_temps, coolant_temps, rpms, speeds, throttle_pos)\n",
    "    if len(data_names)>2:\n",
    "        class_choice = 'col s12 m6 l4'\n",
    "    elif len(data_names) == 2:\n",
    "        class_choice = 'col s12 m6 l6'\n",
    "    else:\n",
    "        class_choice = 'col s12'\n",
    "\n",
    "\n",
    "    for data_name in data_names:\n",
    "\n",
    "        data = go.Scatter(\n",
    "            x=list(times),\n",
    "            y=list(data_dict[data_name]),\n",
    "            name='Scatter',\n",
    "            fill=\"tozeroy\",\n",
    "            fillcolor=\"#6897bb\"\n",
    "            )\n",
    "\n",
    "        graphs.append(html.Div(dcc.Graph(\n",
    "            id=data_name,\n",
    "            animate=True,\n",
    "            figure={'data': [data],'layout' : go.Layout(xaxis=dict(range=[min(times),max(times)]),\n",
    "                                                        yaxis=dict(range=[min(data_dict[data_name]),max(data_dict[data_name])]),\n",
    "                                                        margin={'l':50,'r':1,'t':45,'b':1},\n",
    "                                                        title='{}'.format(data_name))}\n",
    "            ), className=class_choice))\n",
    "\n",
    "    return graphs\n",
    "\n",
    "\n",
    "\n",
    "external_css = [\"https://cdnjs.cloudflare.com/ajax/libs/materialize/0.100.2/css/materialize.min.css\"]\n",
    "for css in external_css:\n",
    "    app.css.append_css({\"external_url\": css})\n",
    "\n",
    "external_js = ['https://cdnjs.cloudflare.com/ajax/libs/materialize/0.100.2/js/materialize.min.js']\n",
    "for js in external_css:\n",
    "    app.scripts.append_script({'external_url': js})\n",
    "\n",
    "\n",
    "if __name__ == '__main__':\n",
    "    app.run_server(debug=True)"
   ]
  },
  {
   "cell_type": "code",
   "execution_count": null,
   "metadata": {},
   "outputs": [],
   "source": []
  },
  {
   "cell_type": "code",
   "execution_count": null,
   "metadata": {},
   "outputs": [],
   "source": []
  }
 ],
 "metadata": {
  "kernelspec": {
   "display_name": "Python 3",
   "language": "python",
   "name": "python3"
  },
  "language_info": {
   "codemirror_mode": {
    "name": "ipython",
    "version": 3
   },
   "file_extension": ".py",
   "mimetype": "text/x-python",
   "name": "python",
   "nbconvert_exporter": "python",
   "pygments_lexer": "ipython3",
   "version": "3.7.3"
  }
 },
 "nbformat": 4,
 "nbformat_minor": 2
}
